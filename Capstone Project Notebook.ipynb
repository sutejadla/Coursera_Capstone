{
 "cells": [
  {
   "cell_type": "markdown",
   "metadata": {},
   "source": [
    "# Coursera Capstone Project:-  Predicting Accident Severity in Seattle - part 1\n",
    "### Applied Data Science Capstone by IBM&Coursera"
   ]
  },
  {
   "cell_type": "markdown",
   "metadata": {},
   "source": [
    "## Table of contents\n",
    "* [Business Problem](#problem)\n",
    "* [Data](#data)"
   ]
  },
  {
   "cell_type": "markdown",
   "metadata": {},
   "source": [
    "## Business Problem <a name=\"problem\"></a>"
   ]
  },
  {
   "cell_type": "markdown",
   "metadata": {},
   "source": [
    "In USA more than **six million** car accidents occur each year and according to **NHTSA(National Highway Traffic Safety Administration)**, about **6%** of all motor vehicle accidents in the United States result in atleast one death. According to **Wikipedia** 6277 pedestrians were killed in traffic in 2018 int the US.\n",
    "\n",
    "What if we could forecast the severity of an accident before hand? What if we predict the chances/possibility that an accident can occur dependng upon road condition, weather condition, traffic at a certain place ,etc. ? What if we can say that today there might be X percentage of chances that accident may occur\n",
    "\n",
    "In this project we will try to predict severity of an accident in Seattle depending upon some conditions using machine learning models.Although this project predicts severity of accident in Seattle, we can also implement this method for any city if we have data of accidents occuring in that city since 5 years.This project can be helpfull to Seatle government"
   ]
  },
  {
   "cell_type": "markdown",
   "metadata": {},
   "source": [
    "## Data <a name=\"data\"></a>"
   ]
  },
  {
   "cell_type": "markdown",
   "metadata": {},
   "source": [
    "In this project we have used dataset shared on Coursera. This dataset has a total of 38 columns in which 37 columns are features/attributes and one column is  dependent variable or the value to be predicted. Each row/record in this dataet represents accidents happened in Seattle from 2014 to 2020. Dependent/Target variable in this dataset is **SEVERITYCODE**.It has 2 unique values which corresponds to different levels. 1 for prop damage and 2 for injury."
   ]
  },
  {
   "cell_type": "code",
   "execution_count": null,
   "metadata": {},
   "outputs": [],
   "source": []
  }
 ],
 "metadata": {
  "kernelspec": {
   "display_name": "Python 3",
   "language": "python",
   "name": "python3"
  },
  "language_info": {
   "codemirror_mode": {
    "name": "ipython",
    "version": 3
   },
   "file_extension": ".py",
   "mimetype": "text/x-python",
   "name": "python",
   "nbconvert_exporter": "python",
   "pygments_lexer": "ipython3",
   "version": "3.8.3"
  }
 },
 "nbformat": 4,
 "nbformat_minor": 4
}
